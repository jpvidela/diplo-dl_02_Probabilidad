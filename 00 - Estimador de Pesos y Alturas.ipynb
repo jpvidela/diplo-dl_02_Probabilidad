{
 "cells": [
  {
   "cell_type": "markdown",
   "id": "cbb4bc5d-8ed3-4d8d-8f69-b6e675709833",
   "metadata": {},
   "source": [
    "Tengo un dataset de contiene `pesos`, `alturas` y `géneros`. Puedo, a partir de estos datos construir un clasificador que me permita, dado un par de valores `peso, altura` de una persona, estimar su `género`?"
   ]
  },
  {
   "cell_type": "code",
   "execution_count": 1,
   "id": "b037cd38-24b0-4429-9a18-abf4a7151bba",
   "metadata": {},
   "outputs": [],
   "source": [
    "import numpy as np\n",
    "import pandas as pd\n",
    "from matplotlib import pyplot as plt"
   ]
  },
  {
   "cell_type": "code",
   "execution_count": 15,
   "id": "6c94873e-c5b5-469e-baa1-8923f23959cf",
   "metadata": {},
   "outputs": [
    {
     "data": {
      "text/html": [
       "<div>\n",
       "<style scoped>\n",
       "    .dataframe tbody tr th:only-of-type {\n",
       "        vertical-align: middle;\n",
       "    }\n",
       "\n",
       "    .dataframe tbody tr th {\n",
       "        vertical-align: top;\n",
       "    }\n",
       "\n",
       "    .dataframe thead th {\n",
       "        text-align: right;\n",
       "    }\n",
       "</style>\n",
       "<table border=\"1\" class=\"dataframe\">\n",
       "  <thead>\n",
       "    <tr style=\"text-align: right;\">\n",
       "      <th></th>\n",
       "      <th>Genero</th>\n",
       "      <th>Peso</th>\n",
       "      <th>Altura</th>\n",
       "    </tr>\n",
       "  </thead>\n",
       "  <tbody>\n",
       "    <tr>\n",
       "      <th>0</th>\n",
       "      <td>Mujer</td>\n",
       "      <td>61</td>\n",
       "      <td>162</td>\n",
       "    </tr>\n",
       "    <tr>\n",
       "      <th>1</th>\n",
       "      <td>Hombre</td>\n",
       "      <td>97</td>\n",
       "      <td>181</td>\n",
       "    </tr>\n",
       "    <tr>\n",
       "      <th>2</th>\n",
       "      <td>Hombre</td>\n",
       "      <td>73</td>\n",
       "      <td>172</td>\n",
       "    </tr>\n",
       "    <tr>\n",
       "      <th>3</th>\n",
       "      <td>Mujer</td>\n",
       "      <td>55</td>\n",
       "      <td>157</td>\n",
       "    </tr>\n",
       "    <tr>\n",
       "      <th>4</th>\n",
       "      <td>Mujer</td>\n",
       "      <td>56</td>\n",
       "      <td>151</td>\n",
       "    </tr>\n",
       "  </tbody>\n",
       "</table>\n",
       "</div>"
      ],
      "text/plain": [
       "   Genero  Peso  Altura\n",
       "0   Mujer    61     162\n",
       "1  Hombre    97     181\n",
       "2  Hombre    73     172\n",
       "3   Mujer    55     157\n",
       "4   Mujer    56     151"
      ]
     },
     "execution_count": 15,
     "metadata": {},
     "output_type": "execute_result"
    }
   ],
   "source": [
    "df = pd.read_csv('alturas-pesos-1-train.csv')\n",
    "df.head()"
   ]
  },
  {
   "cell_type": "code",
   "execution_count": 16,
   "id": "962fe88d-049e-4c15-8b14-333831397bc6",
   "metadata": {},
   "outputs": [
    {
     "data": {
      "text/html": [
       "<div>\n",
       "<style scoped>\n",
       "    .dataframe tbody tr th:only-of-type {\n",
       "        vertical-align: middle;\n",
       "    }\n",
       "\n",
       "    .dataframe tbody tr th {\n",
       "        vertical-align: top;\n",
       "    }\n",
       "\n",
       "    .dataframe thead th {\n",
       "        text-align: right;\n",
       "    }\n",
       "</style>\n",
       "<table border=\"1\" class=\"dataframe\">\n",
       "  <thead>\n",
       "    <tr style=\"text-align: right;\">\n",
       "      <th></th>\n",
       "      <th>Peso</th>\n",
       "      <th>Altura</th>\n",
       "    </tr>\n",
       "  </thead>\n",
       "  <tbody>\n",
       "    <tr>\n",
       "      <th>count</th>\n",
       "      <td>8000.000000</td>\n",
       "      <td>8000.000000</td>\n",
       "    </tr>\n",
       "    <tr>\n",
       "      <th>mean</th>\n",
       "      <td>72.301125</td>\n",
       "      <td>167.616125</td>\n",
       "    </tr>\n",
       "    <tr>\n",
       "      <th>std</th>\n",
       "      <td>14.628908</td>\n",
       "      <td>9.836608</td>\n",
       "    </tr>\n",
       "    <tr>\n",
       "      <th>min</th>\n",
       "      <td>31.000000</td>\n",
       "      <td>138.000000</td>\n",
       "    </tr>\n",
       "    <tr>\n",
       "      <th>25%</th>\n",
       "      <td>61.000000</td>\n",
       "      <td>160.000000</td>\n",
       "    </tr>\n",
       "    <tr>\n",
       "      <th>50%</th>\n",
       "      <td>72.000000</td>\n",
       "      <td>167.000000</td>\n",
       "    </tr>\n",
       "    <tr>\n",
       "      <th>75%</th>\n",
       "      <td>84.000000</td>\n",
       "      <td>175.000000</td>\n",
       "    </tr>\n",
       "    <tr>\n",
       "      <th>max</th>\n",
       "      <td>121.000000</td>\n",
       "      <td>199.000000</td>\n",
       "    </tr>\n",
       "  </tbody>\n",
       "</table>\n",
       "</div>"
      ],
      "text/plain": [
       "              Peso       Altura\n",
       "count  8000.000000  8000.000000\n",
       "mean     72.301125   167.616125\n",
       "std      14.628908     9.836608\n",
       "min      31.000000   138.000000\n",
       "25%      61.000000   160.000000\n",
       "50%      72.000000   167.000000\n",
       "75%      84.000000   175.000000\n",
       "max     121.000000   199.000000"
      ]
     },
     "execution_count": 16,
     "metadata": {},
     "output_type": "execute_result"
    }
   ],
   "source": [
    "df.describe()"
   ]
  },
  {
   "cell_type": "code",
   "execution_count": 17,
   "id": "294a14ae-ba71-403b-8ec2-ded8eaba2ff3",
   "metadata": {},
   "outputs": [
    {
     "data": {
      "text/html": [
       "<div>\n",
       "<style scoped>\n",
       "    .dataframe tbody tr th:only-of-type {\n",
       "        vertical-align: middle;\n",
       "    }\n",
       "\n",
       "    .dataframe tbody tr th {\n",
       "        vertical-align: top;\n",
       "    }\n",
       "\n",
       "    .dataframe thead th {\n",
       "        text-align: right;\n",
       "    }\n",
       "</style>\n",
       "<table border=\"1\" class=\"dataframe\">\n",
       "  <thead>\n",
       "    <tr style=\"text-align: right;\">\n",
       "      <th></th>\n",
       "      <th>Peso</th>\n",
       "      <th>Altura</th>\n",
       "    </tr>\n",
       "  </thead>\n",
       "  <tbody>\n",
       "    <tr>\n",
       "      <th>Peso</th>\n",
       "      <td>214.004949</td>\n",
       "      <td>132.878329</td>\n",
       "    </tr>\n",
       "    <tr>\n",
       "      <th>Altura</th>\n",
       "      <td>132.878329</td>\n",
       "      <td>96.758860</td>\n",
       "    </tr>\n",
       "  </tbody>\n",
       "</table>\n",
       "</div>"
      ],
      "text/plain": [
       "              Peso      Altura\n",
       "Peso    214.004949  132.878329\n",
       "Altura  132.878329   96.758860"
      ]
     },
     "execution_count": 17,
     "metadata": {},
     "output_type": "execute_result"
    }
   ],
   "source": [
    "df[['Peso','Altura']].cov()"
   ]
  },
  {
   "cell_type": "code",
   "execution_count": 18,
   "id": "2d371b83-bba7-4c78-844a-02b1cbb9dda1",
   "metadata": {},
   "outputs": [
    {
     "data": {
      "text/html": [
       "<div>\n",
       "<style scoped>\n",
       "    .dataframe tbody tr th:only-of-type {\n",
       "        vertical-align: middle;\n",
       "    }\n",
       "\n",
       "    .dataframe tbody tr th {\n",
       "        vertical-align: top;\n",
       "    }\n",
       "\n",
       "    .dataframe thead th {\n",
       "        text-align: right;\n",
       "    }\n",
       "</style>\n",
       "<table border=\"1\" class=\"dataframe\">\n",
       "  <thead>\n",
       "    <tr style=\"text-align: right;\">\n",
       "      <th></th>\n",
       "      <th>Peso</th>\n",
       "      <th>Altura</th>\n",
       "    </tr>\n",
       "  </thead>\n",
       "  <tbody>\n",
       "    <tr>\n",
       "      <th>Peso</th>\n",
       "      <td>1.000000</td>\n",
       "      <td>0.923415</td>\n",
       "    </tr>\n",
       "    <tr>\n",
       "      <th>Altura</th>\n",
       "      <td>0.923415</td>\n",
       "      <td>1.000000</td>\n",
       "    </tr>\n",
       "  </tbody>\n",
       "</table>\n",
       "</div>"
      ],
      "text/plain": [
       "            Peso    Altura\n",
       "Peso    1.000000  0.923415\n",
       "Altura  0.923415  1.000000"
      ]
     },
     "execution_count": 18,
     "metadata": {},
     "output_type": "execute_result"
    }
   ],
   "source": [
    "df[['Peso','Altura']].corr()"
   ]
  },
  {
   "cell_type": "markdown",
   "id": "ecfb7cee-0822-454d-9e07-e287c15a7a78",
   "metadata": {
    "tags": []
   },
   "source": [
    "## ¿Estimo usando las probabilidades marginales o la conjunta?\n",
    "\n",
    "En este tipo de problemas tengo dos opciones, y una relación de compromiso entre ambos enfoques:\n",
    "\n",
    "1. Tratar a pesos y alturas como variables independientes: Estimo la distribución de las variables por separado.\n",
    "2. Considerar la probabilidad conjunta entre ambas variables, peso y altura.\n",
    "\n",
    "La **relación de compromiso** entre estos enfoques, está en el grado de precisión debido a la cantidad de datos que  tendré si considero a las variables como independientes (trabajo con las probabilidades marginales) o no (trabajo con las probabilidades conjuntas).\n",
    "Si considero a la altura independiente del peso, (Ej: Altura de 160 cm, sin considerar los pesos), voy a tener muchos más datos para calcular la probabilidad, y por ende mi estimación de dicha probabilidad será mejor, más precisa. No obstante, estaré ignorando la clara relación que tienen las dos variables. Si en cambio trabajo con las probabilidades conjuntas, el problema que surge es que no voy a tener tantos datos para cada par de valores, por ende mi cálculo de la probabilidad no será tan preciso.\n"
   ]
  },
  {
   "cell_type": "markdown",
   "id": "7fa7aa7f-814d-48f3-9809-44357bc4d0a0",
   "metadata": {
    "tags": []
   },
   "source": [
    "## Estimación con Probabilidades Marginales\n",
    "\n",
    "Voy a considerar que Peso y Altura son variables independientes entre sí. Los pasos a seguir para construir mi estimador serán:\n",
    "\n",
    "1. Evaluar las distribuciones de probabilidad de peso y altura para hombres y mujeres respectivamente\n",
    "2. Dado un par de valores `peso` y `altura`, calcular las probabilidades en base a la distribución anterior\n",
    "3. Calcular las probabilidades de que sea hombre y de que sea mujer, dados el peso y la altura: $P(Hombre|peso,altura)$ y $P(Mujer|peso,altura)$. Para esto aplico Bayes\n",
    "4. Comparar ambos valores y clasificar en Hombre o Mujer según qué valor sea mayor\n",
    "5. Evaluar la performance de mi clasificador con eel test set."
   ]
  },
  {
   "cell_type": "markdown",
   "id": "2510e247-994a-465a-8a00-2f7f784f8d7e",
   "metadata": {},
   "source": [
    "1. Distribuciones de probabilidad y peso"
   ]
  },
  {
   "cell_type": "code",
   "execution_count": 19,
   "id": "8a47c277-614d-4ba6-95e3-d8f16980c5f8",
   "metadata": {},
   "outputs": [],
   "source": [
    "from collections import Counter"
   ]
  },
  {
   "cell_type": "code",
   "execution_count": 20,
   "id": "341823f6-56bb-47b6-83be-0a14359cacf5",
   "metadata": {},
   "outputs": [],
   "source": [
    "pesos_h = df[df['Genero'] == 'Hombre']['Peso']\n",
    "frec_pesos_h = dict(Counter(pesos_h))\n",
    "alturas_h = df[df['Genero'] == 'Hombre']['Altura']\n",
    "frec_alturas_h = dict(Counter(alturas_h))\n",
    "\n",
    "pesos_m = df[df['Genero'] == 'Mujer']['Peso']\n",
    "alturas_m = df[df['Genero'] == 'Mujer']['Altura']\n",
    "frec_pesos_m = dict(Counter(pesos_m))\n",
    "frec_alturas_m = dict(Counter(alturas_m))"
   ]
  },
  {
   "cell_type": "code",
   "execution_count": 21,
   "id": "5b6e069a-ccc0-4113-b987-1f830dc4327a",
   "metadata": {},
   "outputs": [
    {
     "data": {
      "image/png": "[encoded data removed]",
      "text/plain": [
       "<Figure size 720x720 with 4 Axes>"
      ]
     },
     "metadata": {
      "needs_background": "light"
     },
     "output_type": "display_data"
    }
   ],
   "source": [
    "# Seteo grilla de 2x2 y sus dimensiones\n",
    "fig, axs = plt.subplots(2,2, figsize =(10,10))                    \n",
    "ax = axs[0,0]\n",
    "ax.bar(frec_alturas_h.keys(), frec_alturas_h.values())\n",
    "ax.set_title('Alturas Hombres')\n",
    "\n",
    "ax = axs[0,1]\n",
    "ax.bar(frec_pesos_h.keys(), frec_pesos_h.values())\n",
    "ax.set_title('Pesos Hombres')\n",
    "\n",
    "ax = axs[1,0]\n",
    "ax.bar(frec_alturas_m.keys(), frec_alturas_m.values())\n",
    "ax.set_title('Alturas Mujeres')\n",
    "\n",
    "ax = axs[1,1]\n",
    "ax.bar(frec_pesos_m.keys(), frec_pesos_m.values())\n",
    "ax.set_title('Pesos Mujeres')\n",
    "\n",
    "# Este método me permite compartir ejes. Lo hago así para ver las etiquetas de ejes en todos los subplots\n",
    "axs[1,0].sharex(axs[0,0])\n",
    "axs[1,1].sharex(axs[0,1])\n",
    "\n",
    "plt.show()"
   ]
  },
  {
   "cell_type": "markdown",
   "id": "16e9f6d9-a85d-4bf4-b490-2e6f9022fdb2",
   "metadata": {},
   "source": [
    "Estimo las probabilidades como distribuciones normales tomando los parámetros media y desviación estándar de la muestra"
   ]
  },
  {
   "cell_type": "code",
   "execution_count": 22,
   "id": "b392705b-5e05-48c0-96ec-f47899021e50",
   "metadata": {},
   "outputs": [
    {
     "data": {
      "text/plain": [
       "[<matplotlib.lines.Line2D at 0x280a6119c70>]"
      ]
     },
     "execution_count": 22,
     "metadata": {},
     "output_type": "execute_result"
    },
    {
     "data": {
      "image/png": "[encoded data removed]",
      "text/plain": [
       "<Figure size 432x288 with 1 Axes>"
      ]
     },
     "metadata": {
      "needs_background": "light"
     },
     "output_type": "display_data"
    }
   ],
   "source": [
    "from scipy.stats import norm\n",
    "# Pesos Hombres\n",
    "x = np.linspace(pesos_h.min(), pesos_h.max(), 500)\n",
    "y = norm.pdf(x,pesos_h.mean(), pesos_h.std())\n",
    "plt.plot(x,y, color = 'g')"
   ]
  },
  {
   "cell_type": "code",
   "execution_count": 23,
   "id": "54ee5769-205d-446d-bc46-5145d46ee009",
   "metadata": {},
   "outputs": [],
   "source": [
    "prob_pesos_h = {k: v/len(pesos_h) for k,v in frec_pesos_h.items()}\n",
    "prob_alturas_h = {k: v/len(alturas_h) for k,v in frec_alturas_h.items()}\n",
    "prob_pesos_m = {k: v/len(pesos_m) for k,v in frec_pesos_m.items()}\n",
    "prob_alturas_m = {k: v/len(alturas_m) for k,v in frec_alturas_m.items()}"
   ]
  },
  {
   "cell_type": "code",
   "execution_count": 26,
   "id": "07fdde2e-c753-46a9-8915-0029a3dd1d8c",
   "metadata": {},
   "outputs": [
    {
     "data": {
      "image/png": "[encoded data removed]",
      "text/plain": [
       "<Figure size 720x720 with 4 Axes>"
      ]
     },
     "metadata": {
      "needs_background": "light"
     },
     "output_type": "display_data"
    }
   ],
   "source": [
    "# Seteo grilla de 2x2 y sus dimensiones\n",
    "fig, axs = plt.subplots(2,2, figsize =(10,10))                    \n",
    "ax = axs[0,0]\n",
    "x = np.linspace(alturas_h.min(), alturas_h.max(), 500)\n",
    "y = norm.pdf(x,alturas_h.mean(), alturas_h.std())\n",
    "ax.plot(x,y, color = 'r')\n",
    "ax.bar(prob_alturas_h.keys(), prob_alturas_h.values())\n",
    "ax.set_title('Alturas Hombres')\n",
    "\n",
    "ax = axs[0,1]\n",
    "ax.bar(prob_pesos_h.keys(), prob_pesos_h.values())\n",
    "x = np.linspace(pesos_h.min(), pesos_h.max(), 500)\n",
    "y = norm.pdf(x,pesos_h.mean(), pesos_h.std())\n",
    "ax.plot(x,y, color = 'r')\n",
    "ax.set_title('Pesos Hombres')\n",
    "\n",
    "ax = axs[1,0]\n",
    "ax.bar(prob_alturas_m.keys(), prob_alturas_m.values())\n",
    "x = np.linspace(alturas_m.min(), alturas_m.max(), 500)\n",
    "y = norm.pdf(x,alturas_m.mean(), alturas_m.std())\n",
    "ax.plot(x,y, color = 'r')\n",
    "ax.set_title('Alturas Mujeres')\n",
    "\n",
    "ax = axs[1,1]\n",
    "ax.bar(prob_pesos_m.keys(), prob_pesos_m.values())\n",
    "x = np.linspace(pesos_m.min(), pesos_m.max(), 500)\n",
    "y = norm.pdf(x,pesos_m.mean(), pesos_m.std())\n",
    "ax.plot(x,y, color = 'r')\n",
    "ax.set_title('Pesos Mujeres')\n",
    "\n",
    "# Este método me permite compartir ejes. Lo hago así para ver las etiquetas de ejes en todos los subplots\n",
    "axs[1,0].sharex(axs[0,0])\n",
    "axs[1,1].sharex(axs[0,1])\n",
    "\n",
    "plt.show()"
   ]
  },
  {
   "cell_type": "code",
   "execution_count": null,
   "id": "d32701b5-59aa-4227-a754-d9f13fb5a0b6",
   "metadata": {},
   "outputs": [],
   "source": []
  }
 ],
 "metadata": {
  "kernelspec": {
   "display_name": "Python [conda env:diplo]",
   "language": "python",
   "name": "conda-env-diplo-py"
  },
  "language_info": {
   "codemirror_mode": {
    "name": "ipython",
    "version": 3
   },
   "file_extension": ".py",
   "mimetype": "text/x-python",
   "name": "python",
   "nbconvert_exporter": "python",
   "pygments_lexer": "ipython3",
   "version": "3.9.6"
  }
 },
 "nbformat": 4,
 "nbformat_minor": 5
}
