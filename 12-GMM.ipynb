{
 "cells": [
  {
   "cell_type": "markdown",
   "source": [
    "# GMM (Gaussian Mixture Models)\n",
    "\n",
    "El modelo GMM asume que los datos han sido generado por una mezcla de K distribuciones gaussianas de parámetros desconocidos. En el modelo, el numero de componentes es K, es decir, cuántas distribuciones gaussianas considerará el modelo para aproximar los datos proporcionados."
   ],
   "metadata": {}
  },
  {
   "cell_type": "code",
   "execution_count": 1,
   "source": [
    "# Estos dos comandos evitan que haya que hacer reload cada vez que se modifica un paquete\n",
    "%load_ext autoreload\n",
    "%autoreload 2"
   ],
   "outputs": [],
   "metadata": {}
  },
  {
   "cell_type": "code",
   "execution_count": 2,
   "source": [
    "from sklearn.mixture import GaussianMixture"
   ],
   "outputs": [],
   "metadata": {}
  },
  {
   "cell_type": "code",
   "execution_count": 3,
   "source": [
    "import pandas as pd\n",
    "df = pd.read_csv('alturas-pesos-1-train.csv')"
   ],
   "outputs": [],
   "metadata": {}
  },
  {
   "cell_type": "code",
   "execution_count": 4,
   "source": [
    "pesos_alturas = df[['Peso', 'Altura']].values"
   ],
   "outputs": [],
   "metadata": {}
  },
  {
   "cell_type": "code",
   "execution_count": 22,
   "source": [
    "model = GaussianMixture(n_components=2, covariance_type='full', init_params='kmeans', max_iter=10000, tol=0.0001)"
   ],
   "outputs": [],
   "metadata": {}
  },
  {
   "cell_type": "code",
   "execution_count": 23,
   "source": [
    "model.fit(pesos_alturas)"
   ],
   "outputs": [
    {
     "output_type": "execute_result",
     "data": {
      "text/plain": [
       "GaussianMixture(max_iter=10000, n_components=2, tol=0.0001)"
      ]
     },
     "metadata": {},
     "execution_count": 23
    }
   ],
   "metadata": {}
  },
  {
   "cell_type": "code",
   "execution_count": 24,
   "source": [
    "model.means_"
   ],
   "outputs": [
    {
     "output_type": "execute_result",
     "data": {
      "text/plain": [
       "array([[ 84.01749406, 174.54179157],\n",
       "       [ 60.65461028, 160.73175005]])"
      ]
     },
     "metadata": {},
     "execution_count": 24
    }
   ],
   "metadata": {}
  },
  {
   "cell_type": "code",
   "execution_count": 25,
   "source": [
    "model.covariances_"
   ],
   "outputs": [
    {
     "output_type": "execute_result",
     "data": {
      "text/plain": [
       "array([[[79.83813643, 54.6210906 ],\n",
       "        [54.6210906 , 51.28423416]],\n",
       "\n",
       "       [[75.22233469, 49.79701663],\n",
       "        [49.79701663, 46.86474106]]])"
      ]
     },
     "metadata": {},
     "execution_count": 25
    }
   ],
   "metadata": {}
  },
  {
   "cell_type": "markdown",
   "source": [
    "# De la notebook anterior"
   ],
   "metadata": {}
  },
  {
   "cell_type": "raw",
   "source": [
    "\n",
    "medias_mujeres = [ 60.63481741 160.80765383]\n",
    "medias_hombres = [ 83.95577211 174.4177911 ] \n",
    "\n",
    "covar_mujeres = \n",
    "[[75.2716621  50.74735416]\n",
    " [50.74735416 47.72356412]]\n",
    "\n",
    "covar_hombre = \n",
    "[[80.78759602 56.2994124 ]\n",
    " [56.2994124  53.17456968]]\n"
   ],
   "metadata": {}
  },
  {
   "cell_type": "code",
   "execution_count": null,
   "source": [],
   "outputs": [],
   "metadata": {}
  }
 ],
 "metadata": {
  "kernelspec": {
   "name": "python3",
   "display_name": "Python 3.9.7 64-bit ('diplo': conda)"
  },
  "language_info": {
   "codemirror_mode": {
    "name": "ipython",
    "version": 3
   },
   "file_extension": ".py",
   "mimetype": "text/x-python",
   "name": "python",
   "nbconvert_exporter": "python",
   "pygments_lexer": "ipython3",
   "version": "3.9.7"
  },
  "interpreter": {
   "hash": "728d471afe0d3235633469b5070ff06a4668b587679bfe3ce166ba7fd3c818a5"
  }
 },
 "nbformat": 4,
 "nbformat_minor": 4
}