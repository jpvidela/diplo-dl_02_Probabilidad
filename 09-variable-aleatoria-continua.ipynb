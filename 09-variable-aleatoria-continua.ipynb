{
 "cells": [
  {
   "cell_type": "markdown",
   "metadata": {},
   "source": [
    "# Función de densidad de probabilidad\n",
    "vs función de masa de probabilidad"
   ]
  },
  {
   "cell_type": "markdown",
   "metadata": {},
   "source": [
    "## Notación"
   ]
  },
  {
   "cell_type": "markdown",
   "metadata": {},
   "source": [
    "$f_x(x)$"
   ]
  },
  {
   "cell_type": "markdown",
   "metadata": {},
   "source": [
    "# Distribución uniforme"
   ]
  },
  {
   "cell_type": "markdown",
   "metadata": {},
   "source": [
    "$\\huge f_x(x) = \\frac{1}{B-A}$  si A<x<B"
   ]
  },
  {
   "cell_type": "code",
   "execution_count": 1,
   "metadata": {},
   "outputs": [],
   "source": [
    "from matplotlib import pyplot as plt\n",
    "import numpy as np"
   ]
  },
  {
   "cell_type": "code",
   "execution_count": 2,
   "metadata": {},
   "outputs": [
    {
     "data": {
      "image/png": "[encoded data removed]",
      "text/plain": [
       "<Figure size 432x288 with 1 Axes>"
      ]
     },
     "metadata": {
      "needs_background": "light"
     },
     "output_type": "display_data"
    }
   ],
   "source": [
    "A = 1\n",
    "B = 5\n",
    "x = np.linspace(A-1, B+1, 1000)\n",
    "y = ((x>A) & (x<B)) / (B-A)\n",
    "plt.plot(x, y)\n",
    "plt.show()"
   ]
  },
  {
   "cell_type": "markdown",
   "metadata": {},
   "source": [
    "- El area debajo de la curva es 1\n",
    "- Es densidad por lo que son siempre probabilidades en un intervalo que se calcula como el area de ese intervalo\n",
    "- $\\mu_x=\\frac{A+B}{2}$\n",
    "- $\\sigma_x =\\frac{(B-A)^2}{12}$"
   ]
  },
  {
   "cell_type": "markdown",
   "metadata": {},
   "source": [
    "# Como generamos?"
   ]
  },
  {
   "cell_type": "code",
   "execution_count": 3,
   "metadata": {},
   "outputs": [
    {
     "data": {
      "text/plain": [
       "array([3.21060238, 1.29909192, 4.24867671, 2.4872623 , 2.07245097,\n",
       "       3.03574159, 2.70476727, 2.85591538, 2.21044467, 1.57404615,\n",
       "       2.277247  , 4.06648658, 1.30590503, 3.43604148, 2.56674887,\n",
       "       3.89960828, 4.47366255, 1.29915848, 2.69152774, 2.22870663,\n",
       "       4.58946587, 2.01947457, 1.62166179, 2.23650514, 4.37146809,\n",
       "       3.34020577, 1.43398399, 4.41586916, 2.54576569, 1.40759808,\n",
       "       2.64598584, 4.04258514, 3.839907  , 2.01119456, 2.55399768,\n",
       "       4.23791319, 4.84203953, 2.98078308, 2.60967336, 4.34706279,\n",
       "       1.30890147, 4.62408091, 1.88058808, 1.47414553, 2.53292256,\n",
       "       4.1974196 , 1.06764882, 3.59989008, 4.54532538, 3.65843219,\n",
       "       4.22346133, 2.75882723, 3.72881903, 2.1219314 , 2.57122259,\n",
       "       3.19305801, 4.96782935, 4.7801581 , 1.45724365, 2.10216458,\n",
       "       4.41261684, 3.75750318, 4.13463192, 2.9257492 , 2.89601722,\n",
       "       4.40776337, 1.55640026, 4.24625484, 3.83956185, 3.74163559,\n",
       "       3.0887364 , 1.00239486, 3.47876958, 3.39248046, 2.22207382,\n",
       "       2.94105033, 3.69303286, 2.03537405, 3.43260009, 1.47133996,\n",
       "       4.1058392 , 4.12232848, 3.66857888, 4.17427168, 4.40738323,\n",
       "       1.76035223, 3.24097585, 3.5849011 , 2.3590041 , 4.53131153,\n",
       "       4.90322656, 1.49675201, 4.98344434, 2.62506649, 1.52805031,\n",
       "       2.42780227, 1.02654762, 1.48268353, 1.56856863, 1.92731899])"
      ]
     },
     "execution_count": 3,
     "metadata": {},
     "output_type": "execute_result"
    }
   ],
   "source": [
    "np.random.uniform(A, B, 100)"
   ]
  },
  {
   "cell_type": "markdown",
   "metadata": {},
   "source": [
    "# Distribución Gaussiana"
   ]
  },
  {
   "cell_type": "markdown",
   "metadata": {},
   "source": [
    "$\\huge f_x(x) = \\frac{1}{\\sqrt{2\\pi\\sigma_x^2}}e^{-\\frac{(x-\\mu_x)^2}{2\\sigma_x^2}}$ "
   ]
  },
  {
   "cell_type": "code",
   "execution_count": 4,
   "metadata": {},
   "outputs": [
    {
     "data": {
      "image/png": "[encoded data removed]",
      "text/plain": [
       "<Figure size 432x288 with 1 Axes>"
      ]
     },
     "metadata": {
      "needs_background": "light"
     },
     "output_type": "display_data"
    }
   ],
   "source": [
    "from scipy.stats import norm\n",
    "rango = np.linspace(-10, 10, 100)\n",
    "media = 0 \n",
    "std = 1\n",
    "pdf = norm.pdf(rango, media, std)\n",
    "plt.plot(rango, pdf)\n",
    "plt.show()"
   ]
  },
  {
   "cell_type": "markdown",
   "metadata": {},
   "source": [
    "Cambiar media y std"
   ]
  },
  {
   "cell_type": "markdown",
   "metadata": {},
   "source": [
    "# Dataset de pesos y alturas"
   ]
  },
  {
   "cell_type": "code",
   "execution_count": 5,
   "metadata": {},
   "outputs": [],
   "source": [
    "import pandas as pd\n",
    "df = pd.read_csv('alturas-pesos-1-train.csv')"
   ]
  },
  {
   "cell_type": "code",
   "execution_count": 15,
   "metadata": {},
   "outputs": [
    {
     "data": {
      "text/html": [
       "<div>\n",
       "<style scoped>\n",
       "    .dataframe tbody tr th:only-of-type {\n",
       "        vertical-align: middle;\n",
       "    }\n",
       "\n",
       "    .dataframe tbody tr th {\n",
       "        vertical-align: top;\n",
       "    }\n",
       "\n",
       "    .dataframe thead th {\n",
       "        text-align: right;\n",
       "    }\n",
       "</style>\n",
       "<table border=\"1\" class=\"dataframe\">\n",
       "  <thead>\n",
       "    <tr style=\"text-align: right;\">\n",
       "      <th></th>\n",
       "      <th>Genero</th>\n",
       "      <th>Peso</th>\n",
       "      <th>Altura</th>\n",
       "    </tr>\n",
       "  </thead>\n",
       "  <tbody>\n",
       "    <tr>\n",
       "      <th>0</th>\n",
       "      <td>Mujer</td>\n",
       "      <td>61</td>\n",
       "      <td>162</td>\n",
       "    </tr>\n",
       "    <tr>\n",
       "      <th>1</th>\n",
       "      <td>Hombre</td>\n",
       "      <td>97</td>\n",
       "      <td>181</td>\n",
       "    </tr>\n",
       "    <tr>\n",
       "      <th>2</th>\n",
       "      <td>Hombre</td>\n",
       "      <td>73</td>\n",
       "      <td>172</td>\n",
       "    </tr>\n",
       "    <tr>\n",
       "      <th>3</th>\n",
       "      <td>Mujer</td>\n",
       "      <td>55</td>\n",
       "      <td>157</td>\n",
       "    </tr>\n",
       "    <tr>\n",
       "      <th>4</th>\n",
       "      <td>Mujer</td>\n",
       "      <td>56</td>\n",
       "      <td>151</td>\n",
       "    </tr>\n",
       "  </tbody>\n",
       "</table>\n",
       "</div>"
      ],
      "text/plain": [
       "   Genero  Peso  Altura\n",
       "0   Mujer    61     162\n",
       "1  Hombre    97     181\n",
       "2  Hombre    73     172\n",
       "3   Mujer    55     157\n",
       "4   Mujer    56     151"
      ]
     },
     "execution_count": 15,
     "metadata": {},
     "output_type": "execute_result"
    }
   ],
   "source": [
    "df.head()"
   ]
  },
  {
   "cell_type": "code",
   "execution_count": 7,
   "metadata": {},
   "outputs": [],
   "source": [
    "from collections import Counter\n",
    "pesos = df['Peso'].values\n",
    "peso_H =  df[df['Genero'] == 'Hombre']['Peso'].values"
   ]
  },
  {
   "cell_type": "code",
   "execution_count": 8,
   "metadata": {},
   "outputs": [
    {
     "data": {
      "image/png": "[encoded data removed]",
      "text/plain": [
       "<Figure size 432x288 with 1 Axes>"
      ]
     },
     "metadata": {
      "needs_background": "light"
     },
     "output_type": "display_data"
    }
   ],
   "source": [
    "pesos_frecuencia = dict(Counter(pesos))\n",
    "# La probabilidad es la cantidad de observaciones dividido el total\n",
    "peso_prob = {pe:c/len(pesos) for pe, c in pesos_frecuencia.items()}\n",
    "plt.bar(peso_prob.keys(), peso_prob.values())\n",
    "plt.show()"
   ]
  },
  {
   "cell_type": "markdown",
   "metadata": {},
   "source": [
    "### Es gaussiana?\n",
    "Es una distribución gaussiana bimodal ,ya que es la superposición de dos distriubciones (peso de hombres y peso de mujeres)"
   ]
  },
  {
   "cell_type": "code",
   "execution_count": 16,
   "metadata": {},
   "outputs": [
    {
     "data": {
      "image/png": "[encoded data removed]",
      "text/plain": [
       "<Figure size 432x288 with 1 Axes>"
      ]
     },
     "metadata": {
      "needs_background": "light"
     },
     "output_type": "display_data"
    }
   ],
   "source": [
    "peso_H_frecuencia = dict(Counter(peso_H))\n",
    "peso_prob_H = {pe:c/len(peso_H) for pe, c in peso_H_frecuencia.items()}\n",
    "plt.bar(peso_prob_H.keys(), peso_prob_H.values())\n",
    "plt.show()"
   ]
  },
  {
   "cell_type": "markdown",
   "metadata": {},
   "source": [
    "Es gaussiana?"
   ]
  },
  {
   "cell_type": "code",
   "execution_count": 10,
   "metadata": {},
   "outputs": [
    {
     "name": "stdout",
     "output_type": "stream",
     "text": [
      "83.95577211394303 8.987069000037568\n"
     ]
    }
   ],
   "source": [
    "mean = peso_H.mean()\n",
    "std = peso_H.std()\n",
    "print(mean, std)"
   ]
  },
  {
   "cell_type": "markdown",
   "metadata": {},
   "source": [
    "### La distribución Gaussiana queda determinada por solo dos parámetros:\n",
    "Media y Varianza"
   ]
  },
  {
   "cell_type": "code",
   "execution_count": 11,
   "metadata": {},
   "outputs": [
    {
     "data": {
      "image/png": "[encoded data removed]",
      "text/plain": [
       "<Figure size 432x288 with 1 Axes>"
      ]
     },
     "metadata": {
      "needs_background": "light"
     },
     "output_type": "display_data"
    }
   ],
   "source": [
    "rango = np.linspace(peso_H.min(), peso_H.max(), 100)\n",
    "pdf = norm.pdf(rango, mean, std)\n",
    "plt.plot(rango, pdf, c='r')\n",
    "plt.bar(peso_prob_H.keys(), peso_prob_H.values())\n",
    "plt.show()"
   ]
  },
  {
   "cell_type": "markdown",
   "metadata": {},
   "source": [
    "**¿Puedo analizar qué tanto se aproxima una muestra a una distribución de probabilidad normal?**\n",
    "Existen tests que permiten conocer el grado de ajuste de un conjunto de datos a una Gaussiana, pero no tiene demasiado sentido analizar esto ya que ninguna distribución REAL es 100% gaussiana."
   ]
  },
  {
   "cell_type": "markdown",
   "metadata": {},
   "source": [
    "En machine learning, no nos importa tanto el enfoque estadístico del problema y buscar la manera de estimar una variable basados en una distribución de probabilidad. Lo que nos importa es que nuestro modelo de ML performe bien al estimar para nuevos datos (validación), y nos vamos a quedar con aquel modelo que de la mejor métrica, no con el que ajuste \"teóricamente\" mejor."
   ]
  },
  {
   "cell_type": "markdown",
   "metadata": {},
   "source": [
    "# Como generamos?"
   ]
  },
  {
   "cell_type": "code",
   "execution_count": 12,
   "metadata": {},
   "outputs": [
    {
     "data": {
      "text/plain": [
       "array([ 84.28819986,  89.77195002, 106.669509  ,  92.07565885,\n",
       "        65.8815698 ,  85.44951988,  86.44860728,  83.4951085 ,\n",
       "        83.93201043,  90.07446202,  79.65201674,  75.45106194,\n",
       "        87.28642477,  65.5481854 ,  85.7659699 ,  98.38792695,\n",
       "        81.11922589,  82.4280261 ,  94.9283444 ,  74.80542406,\n",
       "        71.18593462,  70.38724829,  74.16290996,  95.46435196,\n",
       "        89.3251911 ,  75.24839049,  82.73431349,  82.27723812,\n",
       "        86.35450705,  82.28892045,  69.05093698,  74.93478202,\n",
       "       100.69148334,  84.85267946,  76.27413049, 100.41984719,\n",
       "        82.2113432 ,  84.49876256,  94.79442327,  85.26797163,\n",
       "        68.77070543,  92.93617303,  91.53268208,  84.3595984 ,\n",
       "        89.0131022 ,  80.00871283,  93.34609467,  84.37180772,\n",
       "        83.82446895,  70.50962284,  73.6042394 ,  91.56821873,\n",
       "        78.4959862 ,  82.25101102,  82.65823004,  75.62376967,\n",
       "        84.91955734,  75.74109671,  93.16161332,  92.47307297,\n",
       "        67.85391537,  90.10236324,  74.47553656,  77.73369557,\n",
       "        72.43079619,  77.78453342,  76.24139322,  79.14401591,\n",
       "        87.21006369,  91.15429343,  77.29909806,  80.35268416,\n",
       "        90.05170506,  77.90518925,  80.4806719 ,  74.59813287,\n",
       "        88.3723046 ,  88.05199924,  78.76985072,  90.068245  ,\n",
       "        88.86876337,  79.87958179,  88.48731137,  87.79114935,\n",
       "        88.92379027,  92.59368656,  82.79810614,  93.99679403,\n",
       "        78.59705977,  83.07282451,  87.172211  ,  89.50712769,\n",
       "        87.45991063,  82.64374892,  92.76533819,  80.36423382,\n",
       "        91.69226159,  76.69189624,  82.03953167,  80.60172927])"
      ]
     },
     "execution_count": 12,
     "metadata": {},
     "output_type": "execute_result"
    }
   ],
   "source": [
    "np.random.normal(mean, std, 100)"
   ]
  },
  {
   "cell_type": "markdown",
   "metadata": {},
   "source": [
    "# Teorema del limite central"
   ]
  },
  {
   "cell_type": "markdown",
   "metadata": {},
   "source": [
    "Problema de laboratorio"
   ]
  },
  {
   "cell_type": "markdown",
   "metadata": {},
   "source": [
    "Dadas $X_1$, $X_2$, $X_3$ ... $X_N$ todas V.As. i.i.d. (Intependientes e Identicamente Distribuidas)\n",
    "\n",
    "Donde la media $E[X_i] = \\mu_{x_i}$\n",
    "\n",
    "Y la varianza $E[(X_i-\\mu_{x_i})^2] = \\sigma^2_{x_i} < \\infty$\n",
    "\n",
    "$S = \\sum_i^N{\\frac{X_i}{N}}$\n",
    "\n",
    "La V.A S tiene distribución gaussiana con media $\\mu_{x_i}$ y varianza $\\sigma^2_{x_i}$ cuando N tiende a infinito"
   ]
  },
  {
   "cell_type": "markdown",
   "metadata": {},
   "source": [
    "https://www.kaggle.com/c/santander-customer-transaction-prediction/data"
   ]
  },
  {
   "cell_type": "markdown",
   "metadata": {},
   "source": [
    "*El CLT (Central Limit Theorem) explica por qué en tantos conjuntos de datos aparecen variables que se parecen a una distribución Gaussiana.*"
   ]
  }
 ],
 "metadata": {
  "kernelspec": {
   "display_name": "Python [conda env:diplo]",
   "language": "python",
   "name": "conda-env-diplo-py"
  },
  "language_info": {
   "codemirror_mode": {
    "name": "ipython",
    "version": 3
   },
   "file_extension": ".py",
   "mimetype": "text/x-python",
   "name": "python",
   "nbconvert_exporter": "python",
   "pygments_lexer": "ipython3",
   "version": "3.9.6"
  }
 },
 "nbformat": 4,
 "nbformat_minor": 4
}
